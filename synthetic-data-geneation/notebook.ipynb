{
 "cells": [
  {
   "cell_type": "code",
   "execution_count": 1,
   "metadata": {},
   "outputs": [],
   "source": [
    "from src.templates.email_template import EmailTemplate\n",
    "from src.templates.product_template import ProductTemplate\n",
    "from src.utils.config_loader import load_config\n",
    "from src.assistant import Assistant"
   ]
  },
  {
   "cell_type": "code",
   "execution_count": 2,
   "metadata": {},
   "outputs": [],
   "source": [
    "config = load_config(\"/Users/raviguntakala/Desktop/Personal_Projects/synthetic_data_geneation/config/system_config.yaml\")"
   ]
  },
  {
   "cell_type": "code",
   "execution_count": 3,
   "metadata": {},
   "outputs": [],
   "source": [
    "email_template = EmailTemplate(config)\n",
    "product_template = ProductTemplate(config)\n",
    "llm_client = Assistant()"
   ]
  },
  {
   "cell_type": "code",
   "execution_count": 4,
   "metadata": {},
   "outputs": [],
   "source": [
    "# prompt,output_model = email_template.build_prompt(num_samples=10)\n",
    "prompt,output_model = product_template.build_prompt(num_samples=10)\n"
   ]
  },
  {
   "cell_type": "code",
   "execution_count": 5,
   "metadata": {},
   "outputs": [
    {
     "name": "stdout",
     "output_type": "stream",
     "text": [
      "Generate EXACTLY 10 distinct and realistic product descriptions for an e-commerce setting.\n",
      "\n",
      "        Ensure variety across the generated product descriptions using different combinations of:\n",
      "        - Product Category: Use a variety from ['electronics', 'furniture', 'clothing', 'kitchenware', 'beauty', 'sports', 'toys', 'books', 'pet supplies', 'jewelry', 'office supplies', 'automotive', 'food and beverages']. Assign a relevant category to each product.\n",
      "        - Price Tier: Use different tiers from ['budget', 'mid_range', 'premium', 'luxury'], generating a specific price within the corresponding range: {'budget': [5, 50], 'mid_range': [51, 200], 'premium': [201, 1000], 'luxury': [1001, 10000]}.\n",
      "        - Complexity Levels: Generate descriptions representing DIFFERENT complexity levels, adhering strictly to the following guidelines for description length, feature count, and specification count:\n",
      "        - simple: Basic description with fundamental features (approx. 30-70 words, 2-4 features, 0-2 specs)\n",
      "- medium: Detailed description with main selling points (approx. 70-150 words, 4-6 features, 2-4 specs)\n",
      "- complex: Comprehensive description with technical details and unique selling points (approx. 150-250 words, 6-8 features, 4-8 specs)\n",
      "- very_complex: Extensive description with technical specifications, comparisons to similar products, use cases, and customer benefits (approx. 250-400 words, 8-12 features, 8-15 specs)\n",
      "\n",
      "        First, understand the required structure for each individual product object:\n",
      "        ```python\n",
      "        {\n",
      "  \"description\": \"Pydantic model for product description output\",\n",
      "  \"properties\": {\n",
      "    \"product_name\": {\n",
      "      \"description\": \"Specific, marketable name/title of the product\",\n",
      "      \"title\": \"Product Name\",\n",
      "      \"type\": \"string\"\n",
      "    },\n",
      "    \"tagline\": {\n",
      "      \"description\": \"Short, catchy tagline or headline summarizing the main benefit\",\n",
      "      \"title\": \"Tagline\",\n",
      "      \"type\": \"string\"\n",
      "    },\n",
      "    \"description\": {\n",
      "      \"description\": \"Main product description adhering to complexity guidelines\",\n",
      "      \"title\": \"Description\",\n",
      "      \"type\": \"string\"\n",
      "    },\n",
      "    \"features\": {\n",
      "      \"description\": \"Key features as a list of strings (bullet points)\",\n",
      "      \"items\": {\n",
      "        \"type\": \"string\"\n",
      "      },\n",
      "      \"title\": \"Features\",\n",
      "      \"type\": \"array\"\n",
      "    },\n",
      "    \"price\": {\n",
      "      \"description\": \"Specific price within the suggested range for the product\",\n",
      "      \"title\": \"Price\",\n",
      "      \"type\": \"number\"\n",
      "    },\n",
      "    \"category\": {\n",
      "      \"description\": \"Product category assigned during generation\",\n",
      "      \"title\": \"Category\",\n",
      "      \"type\": \"string\"\n",
      "    },\n",
      "    \"complexity_level\": {\n",
      "      \"description\": \"Complexity level used for generation (e.g., 'simple', 'medium')\",\n",
      "      \"title\": \"Complexity Level\",\n",
      "      \"type\": \"string\"\n",
      "    }\n",
      "  },\n",
      "  \"required\": [\n",
      "    \"product_name\",\n",
      "    \"tagline\",\n",
      "    \"description\",\n",
      "    \"features\",\n",
      "    \"price\",\n",
      "    \"category\",\n",
      "    \"complexity_level\"\n",
      "  ],\n",
      "  \"title\": \"ProductOutput\",\n",
      "  \"type\": \"object\"\n",
      "}\n",
      "        ```\n",
      "\n",
      "        Now, format your entire response as a single JSON object conforming strictly to the following Pydantic model.\n",
      "        The JSON object must have ONE key 'products' containing a list of EXACTLY 10 distinct `ProductOutput` objects, each matching the structure defined above.\n",
      "\n",
      "        ```python\n",
      "        class ProductOutputList(BaseModel):\n",
      "            products: List[ProductOutput] # List of 10 ProductOutput objects\n",
      "        ```\n",
      "\n",
      "        Return ONLY the valid JSON object conforming to the `ProductOutputList` structure. Do not include any other text or explanation before or after the JSON.\n",
      "        \n"
     ]
    }
   ],
   "source": [
    "print(prompt)"
   ]
  },
  {
   "cell_type": "code",
   "execution_count": 5,
   "metadata": {},
   "outputs": [
    {
     "name": "stdout",
     "output_type": "stream",
     "text": [
      "<class 'src.templates.product_template.ProductOutputList'>\n"
     ]
    }
   ],
   "source": [
    "print(output_model)"
   ]
  },
  {
   "cell_type": "code",
   "execution_count": 6,
   "metadata": {},
   "outputs": [],
   "source": [
    "response = llm_client.generate_response(prompt=prompt,output_pydantic=output_model)"
   ]
  },
  {
   "cell_type": "code",
   "execution_count": 8,
   "metadata": {},
   "outputs": [
    {
     "name": "stdout",
     "output_type": "stream",
     "text": [
      "{\n",
      "  \"emails\": [\n",
      "    {\n",
      "      \"closing\": \"Thanks,\",\n",
      "      \"customer_name\": \"Jane Doe\",\n",
      "      \"issue_type\": \"delivery_delay\",\n",
      "      \"complexity_level\": \"simple\",\n",
      "      \"subject\": \"Order Delivery Delay\",\n",
      "      \"greeting\": \"Hello,\",\n",
      "      \"body\": \"My order (Order #12345) was supposed to arrive yesterday. I haven't received any updates. Can you please check the status and provide an estimated delivery date? It included a new set of cookware.\"\n",
      "    },\n",
      "    {\n",
      "      \"closing\": \"Best regards,\",\n",
      "      \"customer_name\": \"John Smith\",\n",
      "      \"issue_type\": \"order_status\",\n",
      "      \"complexity_level\": \"medium\",\n",
      "      \"subject\": \"Inquiry about Order #67890\",\n",
      "      \"greeting\": \"Dear Support Team,\",\n",
      "      \"body\": \"I placed an order for a leather jacket (Order #67890) on July 10th. The tracking information hasn't been updated in three days. Could you please provide more detailed information about its current location and when I can expect it to arrive? I'm hoping it arrives before my trip next week.\"\n",
      "    },\n",
      "    {\n",
      "      \"closing\": \"Sincerely,\",\n",
      "      \"customer_name\": \"Alice Johnson\",\n",
      "      \"issue_type\": \"wrong_item\",\n",
      "      \"complexity_level\": \"medium\",\n",
      "      \"subject\": \"Received Incorrect Item - Order #24680\",\n",
      "      \"greeting\": \"To Whom It May Concern,\",\n",
      "      \"body\": \"I received the wrong item in my order (Order #24680). I ordered a blue dress, but I received a red shirt instead. Please advise on how to return the incorrect item and receive the correct dress. I have attached a picture of the received item.\"\n",
      "    },\n",
      "    {\n",
      "      \"closing\": \"Thank you,\",\n",
      "      \"customer_name\": \"Bob Williams\",\n",
      "      \"issue_type\": \"damaged_product\",\n",
      "      \"complexity_level\": \"complex\",\n",
      "      \"subject\": \"Damaged Television - Order #13579\",\n",
      "      \"greeting\": \"Hello,\",\n",
      "      \"body\": \"I received my new television (Order #13579) today, but the screen is cracked. The box also appeared to be damaged upon arrival. I have taken photos of both the box and the television screen. I would like to request a replacement. What is the process for returning the damaged television and receiving a new one? Also, will I need to pay for return shipping? The TV is a 65 inch OLED model.\"\n",
      "    },\n",
      "    {\n",
      "      \"closing\": \"Regards,\",\n",
      "      \"customer_name\": \"Emily Brown\",\n",
      "      \"issue_type\": \"billing_issue\",\n",
      "      \"complexity_level\": \"simple\",\n",
      "      \"subject\": \"Billing Inquiry - Order #98765\",\n",
      "      \"greeting\": \"Dear Customer Service,\",\n",
      "      \"body\": \"I was charged twice for order #98765. Can you please investigate this billing issue and refund the duplicate charge? The order was for a set of children's toys.\"\n",
      "    },\n",
      "    {\n",
      "      \"closing\": \"Best,\",\n",
      "      \"customer_name\": \"David Lee\",\n",
      "      \"issue_type\": \"return_request\",\n",
      "      \"complexity_level\": \"medium\",\n",
      "      \"subject\": \"Return Request - Order #54321\",\n",
      "      \"greeting\": \"Hi,\",\n",
      "      \"body\": \"I would like to return a pair of running shoes (Order #54321) that I purchased recently. They are the wrong size. Please provide instructions on how to initiate the return process and where to ship the shoes. What is the return window for this purchase?\"\n",
      "    },\n",
      "    {\n",
      "      \"closing\": \"Thanks in advance,\",\n",
      "      \"customer_name\": \"Sarah Miller\",\n",
      "      \"issue_type\": \"product_question\",\n",
      "      \"complexity_level\": \"complex\",\n",
      "      \"subject\": \"Question about Coffee Maker - Model XYZ\",\n",
      "      \"greeting\": \"Hello,\",\n",
      "      \"body\": \"I have a question about the XYZ coffee maker. Does it have an automatic shut-off feature? Also, what type of filters does it use? I am considering purchasing this coffee maker, but I need to know these details before making a decision. I saw it listed on your website and am hoping it meets my needs. I am looking for a model that is easy to clean and maintain.\"\n",
      "    },\n",
      "    {\n",
      "      \"closing\": \"Sincerely,\",\n",
      "      \"customer_name\": \"Michael Davis\",\n",
      "      \"issue_type\": \"missing_item\",\n",
      "      \"complexity_level\": \"medium\",\n",
      "      \"subject\": \"Missing Item from Order #11223\",\n",
      "      \"greeting\": \"Dear Support,\",\n",
      "      \"body\": \"I received my order (Order #11223) today, but one item is missing. The order included a book and a pen, but only the book was in the package. Please advise on how to proceed to receive the missing pen. The book arrived in good condition.\"\n",
      "    },\n",
      "    {\n",
      "      \"closing\": \"Thank you for your time,\",\n",
      "      \"customer_name\": \"Linda Wilson\",\n",
      "      \"issue_type\": \"website_issue\",\n",
      "      \"complexity_level\": \"complex\",\n",
      "      \"subject\": \"Website Error During Checkout\",\n",
      "      \"greeting\": \"To Whom It May Concern,\",\n",
      "      \"body\": \"I am experiencing an error while trying to complete my purchase on your website. When I click the 'Submit Order' button, I receive an error message stating 'Payment processing failed'. I have tried multiple times with different credit cards, but the issue persists. I am trying to purchase a new refrigerator. Please investigate this issue and let me know how to resolve it so I can complete my order. I have cleared my browser cache and tried a different browser, but the problem remains.\"\n",
      "    },\n",
      "    {\n",
      "      \"closing\": \"Appreciatively,\",\n",
      "      \"customer_name\": \"Kevin Garcia\",\n",
      "      \"issue_type\": \"account_problem\",\n",
      "      \"complexity_level\": \"very_complex\",\n",
      "      \"subject\": \"Urgent: Account Access Issue and Order History Discrepancy\",\n",
      "      \"greeting\": \"Dear Customer Support Team,\",\n",
      "      \"body\": \"I am writing to report a critical issue with my account. I am unable to log in, despite using the correct email address and password. When I attempt to reset my password, I do not receive the password reset email. Furthermore, I suspect there may be unauthorized activity on my account. I recently placed an order (Order #77889) for a diamond necklace, but it is not showing up in my order history. I am deeply concerned about the security of my personal and financial information. I have been a loyal customer for many years and have never experienced such problems. I request immediate assistance in regaining access to my account and investigating the missing order. Please contact me as soon as possible to resolve this matter. I am available by phone at 555-123-4567. I need to ensure that my account is secure and that the order for the jewelry is processed correctly. I am worried about potential fraud and identity theft. I look forward to your prompt response and resolution to this complex issue. I have already checked my spam folder for the password reset email, and it is not there. I am using the email address associated with my account, which is kevin.garcia@email.com. Please escalate this issue to a senior support representative if necessary. I need confirmation that my account is secure and that no unauthorized changes have been made.\"\n",
      "    }\n",
      "  ]\n",
      "}\n"
     ]
    }
   ],
   "source": [
    "print(response.content)"
   ]
  },
  {
   "cell_type": "code",
   "execution_count": 7,
   "metadata": {},
   "outputs": [
    {
     "name": "stdout",
     "output_type": "stream",
     "text": [
      "{\n",
      "  \"products\": [\n",
      "    {\n",
      "      \"complexity_level\": \"simple\",\n",
      "      \"category\": \"kitchenware\",\n",
      "      \"description\": \"This stainless steel whisk is perfect for all your baking needs. Its durable construction ensures long-lasting use, and the ergonomic handle provides a comfortable grip. Easily whip cream, beat eggs, or mix batter with this essential kitchen tool.\",\n",
      "      \"product_name\": \"Stainless Steel Whisk\",\n",
      "      \"features\": [\n",
      "        \"Durable stainless steel\",\n",
      "        \"Ergonomic handle\"\n",
      "      ],\n",
      "      \"tagline\": \"Whip up delicious treats with ease!\",\n",
      "      \"price\": 8.99\n",
      "    },\n",
      "    {\n",
      "      \"complexity_level\": \"medium\",\n",
      "      \"category\": \"electronics\",\n",
      "      \"description\": \"The Echo Dot (5th Gen) delivers improved audio and a sleek design. Control your smart home, stream music, and get information hands-free. With enhanced bass and clear vocals, enjoy a richer audio experience. Plus, it's designed with privacy in mind.\",\n",
      "      \"product_name\": \"Echo Dot (5th Gen)\",\n",
      "      \"features\": [\n",
      "        \"Improved audio quality\",\n",
      "        \"Hands-free voice control\",\n",
      "        \"Control smart home devices\",\n",
      "        \"Privacy controls\"\n",
      "      ],\n",
      "      \"tagline\": \"Smarter sound, smarter home.\",\n",
      "      \"price\": 59.99\n",
      "    },\n",
      "    {\n",
      "      \"complexity_level\": \"medium\",\n",
      "      \"category\": \"clothing\",\n",
      "      \"description\": \"Stay comfortable and stylish with our Classic Cotton T-Shirt. Made from 100% premium cotton, this tee offers a soft and breathable feel. Perfect for everyday wear, it features a classic crew neck and a relaxed fit. Available in a variety of colors.\",\n",
      "      \"product_name\": \"Classic Cotton T-Shirt\",\n",
      "      \"features\": [\n",
      "        \"100% Premium Cotton\",\n",
      "        \"Classic Crew Neck\",\n",
      "        \"Relaxed Fit\",\n",
      "        \"Breathable Fabric\"\n",
      "      ],\n",
      "      \"tagline\": \"Comfort and style, all in one.\",\n",
      "      \"price\": 24.99\n",
      "    },\n",
      "    {\n",
      "      \"complexity_level\": \"complex\",\n",
      "      \"category\": \"furniture\",\n",
      "      \"description\": \"The Ergonomic Office Chair provides exceptional comfort and support for long hours of work. Featuring adjustable lumbar support, headrest, and armrests, this chair promotes proper posture and reduces back pain. The breathable mesh back keeps you cool and comfortable, while the sturdy base ensures stability. With a weight capacity of 300 lbs, this chair is built to last.\",\n",
      "      \"product_name\": \"Ergonomic Office Chair\",\n",
      "      \"features\": [\n",
      "        \"Adjustable Lumbar Support\",\n",
      "        \"Adjustable Headrest\",\n",
      "        \"Adjustable Armrests\",\n",
      "        \"Breathable Mesh Back\",\n",
      "        \"Sturdy Base\",\n",
      "        \"300 lbs Weight Capacity\"\n",
      "      ],\n",
      "      \"tagline\": \"Work in comfort, all day long.\",\n",
      "      \"price\": 249.00\n",
      "    },\n",
      "    {\n",
      "      \"complexity_level\": \"simple\",\n",
      "      \"category\": \"beauty\",\n",
      "      \"description\": \"Hydrate and revitalize your skin with our Refreshing Facial Toner. This gentle formula removes impurities and balances your skin's pH. Leaving your skin feeling refreshed and ready for the next step in your skincare routine.\",\n",
      "      \"product_name\": \"Refreshing Facial Toner\",\n",
      "      \"features\": [\n",
      "        \"Removes impurities\",\n",
      "        \"Balances skin pH\"\n",
      "      ],\n",
      "      \"tagline\": \"Refresh your skin, naturally.\",\n",
      "      \"price\": 12.50\n",
      "    },\n",
      "    {\n",
      "      \"complexity_level\": \"very_complex\",\n",
      "      \"category\": \"sports\",\n",
      "      \"description\": \"The Pro Performance Running Shoes are designed for serious athletes seeking optimal performance. Featuring a lightweight and breathable mesh upper, these shoes provide exceptional comfort and ventilation. The responsive midsole cushioning absorbs impact and provides energy return, while the durable rubber outsole offers excellent traction on various surfaces. Compared to other running shoes, the Pro Performance model offers superior stability and support, reducing the risk of injury. Ideal for marathon training, road running, and track workouts. Benefit from enhanced speed, endurance, and comfort with every stride.\",\n",
      "      \"product_name\": \"Pro Performance Running Shoes\",\n",
      "      \"features\": [\n",
      "        \"Lightweight Mesh Upper\",\n",
      "        \"Responsive Midsole Cushioning\",\n",
      "        \"Durable Rubber Outsole\",\n",
      "        \"Enhanced Stability\",\n",
      "        \"Superior Support\",\n",
      "        \"Breathable Design\",\n",
      "        \"Impact Absorption\",\n",
      "        \"Energy Return\"\n",
      "      ],\n",
      "      \"tagline\": \"Unleash your running potential.\",\n",
      "      \"price\": 149.99\n",
      "    },\n",
      "    {\n",
      "      \"complexity_level\": \"simple\",\n",
      "      \"category\": \"toys\",\n",
      "      \"description\": \"The Classic Wooden Building Blocks set provides hours of creative fun. These colorful blocks are perfect for developing fine motor skills and spatial reasoning. Safe and durable for children of all ages.\",\n",
      "      \"product_name\": \"Classic Wooden Building Blocks\",\n",
      "      \"features\": [\n",
      "        \"Colorful wooden blocks\",\n",
      "        \"Develops fine motor skills\"\n",
      "      ],\n",
      "      \"tagline\": \"Build, create, and imagine!\",\n",
      "      \"price\": 29.99\n",
      "    },\n",
      "    {\n",
      "      \"complexity_level\": \"medium\",\n",
      "      \"category\": \"books\",\n",
      "      \"description\": \"Dive into a world of adventure with 'The Lost City of Eldoria'. This captivating fantasy novel follows a young explorer on a quest to uncover ancient secrets. With compelling characters and a thrilling plot, this book will keep you turning pages until the very end. Perfect for fans of adventure and fantasy.\",\n",
      "      \"product_name\": \"The Lost City of Eldoria\",\n",
      "      \"features\": [\n",
      "        \"Captivating fantasy novel\",\n",
      "        \"Compelling characters\",\n",
      "        \"Thrilling plot\",\n",
      "        \"Perfect for adventure fans\"\n",
      "      ],\n",
      "      \"tagline\": \"Uncover the secrets of Eldoria.\",\n",
      "      \"price\": 19.95\n",
      "    },\n",
      "    {\n",
      "      \"complexity_level\": \"complex\",\n",
      "      \"category\": \"pet supplies\",\n",
      "      \"description\": \"The Automatic Pet Feeder ensures your pet is fed on time, every time. This programmable feeder allows you to schedule up to four meals per day, with adjustable portion sizes. The built-in voice recorder lets you record a personalized message to call your pet to eat. The removable food container and bowl are easy to clean, and the secure lid prevents spills. Perfect for busy pet owners or those who travel frequently.\",\n",
      "      \"product_name\": \"Automatic Pet Feeder\",\n",
      "      \"features\": [\n",
      "        \"Programmable Meal Schedule\",\n",
      "        \"Adjustable Portion Sizes\",\n",
      "        \"Built-in Voice Recorder\",\n",
      "        \"Removable Food Container\",\n",
      "        \"Easy to Clean\",\n",
      "        \"Secure Lid\"\n",
      "      ],\n",
      "      \"tagline\": \"Never miss a meal again.\",\n",
      "      \"price\": 79.99\n",
      "    },\n",
      "    {\n",
      "      \"complexity_level\": \"very_complex\",\n",
      "      \"category\": \"jewelry\",\n",
      "      \"description\": \"The Diamond Solitaire Pendant is a timeless piece of elegance. Featuring a brilliant-cut diamond set in a 14k white gold setting, this pendant exudes sophistication and grace. The diamond is certified by GIA, ensuring its quality and authenticity. Compared to other diamond pendants, this piece offers superior craftsmanship and a classic design that will never go out of style. Perfect for special occasions or everyday wear, this pendant is a symbol of enduring love and beauty. Benefit from the exquisite sparkle and timeless appeal of this stunning piece.\",\n",
      "      \"product_name\": \"Diamond Solitaire Pendant\",\n",
      "      \"features\": [\n",
      "        \"Brilliant-Cut Diamond\",\n",
      "        \"14k White Gold Setting\",\n",
      "        \"GIA Certified Diamond\",\n",
      "        \"Superior Craftsmanship\",\n",
      "        \"Classic Design\",\n",
      "        \"Timeless Appeal\",\n",
      "        \"Exquisite Sparkle\",\n",
      "        \"Enduring Beauty\",\n",
      "        \"Adjustable Chain Length\",\n",
      "        \"Secure Clasp\"\n",
      "      ],\n",
      "      \"tagline\": \"A timeless symbol of elegance.\",\n",
      "      \"price\": 1250.00\n",
      "    }\n",
      "  ]\n",
      "}\n"
     ]
    }
   ],
   "source": [
    "print(response.content)"
   ]
  },
  {
   "cell_type": "code",
   "execution_count": 13,
   "metadata": {},
   "outputs": [
    {
     "name": "stdout",
     "output_type": "stream",
     "text": [
      "Generate a realistic customer email about a missing_item for a food order.\n",
      "        \n",
      "        The email should be at simple complexity level:\n",
      "        - simple: Brief, direct inquiry with basic language\n",
      "        - medium: Some details and context with average vocabulary\n",
      "        - complex: Multiple questions or concerns with more sophisticated language\n",
      "        - very_complex: Detailed situation description with advanced vocabulary, multiple references to order details, and complex requests\n",
      "        \n",
      "        Format your response according to this Pydantic model:\n",
      "        \n",
      "        ```python\n",
      "        class EmailOutput(BaseModel):\n",
      "            subject: str  # Email subject line\n",
      "            greeting: str  # Email greeting (e.g., \"Hello,\" or \"Dear Support Team,\")\n",
      "            body: str  # Main body explaining the situation and inquiry\n",
      "            closing: str  # Email closing (e.g., \"Thank you,\" or \"Best regards,\")\n",
      "            customer_name: str  # Name of the customer\n",
      "            complexity_level: str  # Complexity level used (use 'simple')\n",
      "            issue_type: str  # Type of issue (use 'missing_item')\n",
      "        ```\n",
      "        \n",
      "        Return a valid JSON object that conforms to this model.\n",
      "        \n"
     ]
    }
   ],
   "source": [
    "print(prompt)"
   ]
  },
  {
   "cell_type": "code",
   "execution_count": 27,
   "metadata": {},
   "outputs": [
    {
     "data": {
      "text/plain": [
       "{'emails': [{'issue_type': 'delivery_delay',\n",
       "   'closing': 'Thanks,',\n",
       "   'greeting': 'Hi,',\n",
       "   'subject': 'Order #12345 Delivery Delay',\n",
       "   'body': \"My order, #12345, was supposed to arrive today, but the tracking hasn't updated in two days. Can you check on its status?\",\n",
       "   'customer_name': 'Jane Doe',\n",
       "   'complexity_level': 'simple'},\n",
       "  {'issue_type': 'order_status',\n",
       "   'closing': 'Best,',\n",
       "   'greeting': 'Hello,',\n",
       "   'subject': 'Inquiry about Order #67890',\n",
       "   'body': \"I placed an order (#67890) for a new TV stand a week ago and haven't received any shipping updates. Could you please provide an update on its current status?\",\n",
       "   'customer_name': 'John Smith',\n",
       "   'complexity_level': 'medium'},\n",
       "  {'issue_type': 'wrong_item',\n",
       "   'closing': 'Sincerely,',\n",
       "   'greeting': 'Dear Support Team,',\n",
       "   'subject': 'Incorrect Item Received - Order #24680',\n",
       "   'body': 'I received the wrong item in my order #24680. I ordered a blue sweater, but I received a red t-shirt instead. Please advise on how to proceed with a return and receive the correct item.',\n",
       "   'customer_name': 'Alice Johnson',\n",
       "   'complexity_level': 'medium'},\n",
       "  {'issue_type': 'damaged_product',\n",
       "   'closing': 'Regards,',\n",
       "   'greeting': 'To Whom It May Concern,',\n",
       "   'subject': 'Damaged Sports Equipment - Order #13579',\n",
       "   'body': 'I am writing to report that the baseball bat I ordered (order #13579) arrived damaged. The bat has a large crack in the handle. I have attached photos as evidence. What are my options for a replacement or refund?',\n",
       "   'customer_name': 'Bob Williams',\n",
       "   'complexity_level': 'medium'},\n",
       "  {'issue_type': 'billing_issue',\n",
       "   'closing': 'Thank you for your time,',\n",
       "   'greeting': 'Good Morning,',\n",
       "   'subject': 'Billing Discrepancy - Order #98765',\n",
       "   'body': 'I noticed a discrepancy on my credit card statement regarding order #98765. I was charged twice for the same order of cosmetics. Could you please investigate this issue and issue a refund for the duplicate charge?',\n",
       "   'customer_name': 'Carol Davis',\n",
       "   'complexity_level': 'medium'},\n",
       "  {'issue_type': 'return_request',\n",
       "   'closing': 'Kind regards,',\n",
       "   'greeting': 'Dear Customer Service,',\n",
       "   'subject': 'Return Request - Order #54321',\n",
       "   'body': \"I would like to request a return for a book I purchased (order #54321). After reading a few chapters, I realized it's not what I was expecting. Please provide instructions on how to return the item.\",\n",
       "   'customer_name': 'David Brown',\n",
       "   'complexity_level': 'simple'},\n",
       "  {'issue_type': 'product_question',\n",
       "   'closing': 'Sincerely,',\n",
       "   'greeting': 'Hello,',\n",
       "   'subject': 'Question about Home Appliance - Model XYZ',\n",
       "   'body': 'I am interested in purchasing the Model XYZ refrigerator. Does it come with an ice maker and water dispenser? Also, what is the energy efficiency rating?',\n",
       "   'customer_name': 'Emily Green',\n",
       "   'complexity_level': 'medium'},\n",
       "  {'issue_type': 'missing_item',\n",
       "   'closing': 'Best regards,',\n",
       "   'greeting': 'Dear Support,',\n",
       "   'subject': 'Missing Item from Order #11223',\n",
       "   'body': 'I received my order #11223 today, but the necklace I ordered was missing from the package. The box looked like it had been opened previously. Please advise on how to proceed.',\n",
       "   'customer_name': 'Frank White',\n",
       "   'complexity_level': 'medium'},\n",
       "  {'issue_type': 'website_issue',\n",
       "   'closing': 'Thank you,',\n",
       "   'greeting': 'Hi there,',\n",
       "   'subject': 'Website Error',\n",
       "   'body': 'I am experiencing an issue with your website. When I try to add items to my cart, I receive an error message. I have tried multiple browsers and devices. Can you please look into this?',\n",
       "   'customer_name': 'Grace Black',\n",
       "   'complexity_level': 'medium'},\n",
       "  {'issue_type': 'account_problem',\n",
       "   'closing': 'Respectfully,',\n",
       "   'greeting': 'To the Account Security Team,',\n",
       "   'subject': 'Suspicious Activity on My Account',\n",
       "   'body': 'I have noticed some suspicious activity on my account. There are orders listed that I did not place, and my saved payment information has been altered. I am concerned about potential fraud and would like to request that you investigate this matter immediately and secure my account. Order numbers in question are #77777 and #88888. I have already changed my password, but I am still worried about unauthorized access. Furthermore, I would like to know what steps you are taking to prevent this from happening again and what compensation is available for any potential losses incurred due to this security breach.',\n",
       "   'customer_name': 'Henry Grey',\n",
       "   'complexity_level': 'very_complex'}]}"
      ]
     },
     "execution_count": 27,
     "metadata": {},
     "output_type": "execute_result"
    }
   ],
   "source": [
    "import json\n",
    "json.loads(response.content)"
   ]
  },
  {
   "cell_type": "code",
   "execution_count": null,
   "metadata": {},
   "outputs": [
    {
     "name": "stdout",
     "output_type": "stream",
     "text": [
      "{'status': 'success', 'output_path': 'data/output/emails/emails.json', 'count': 1, 'template_name': 'emails', 'output_format': 'json'}\n"
     ]
    }
   ],
   "source": [
    "import requests\n",
    "\n",
    "response = requests.post(\n",
    "    \"http://localhost:8000/generate\",\n",
    "    json={\n",
    "        \"template_name\": \"products\",\n",
    "        \"count\": 1,\n",
    "        \"output_format\": \"json\"\n",
    "    }\n",
    ")\n",
    "print(response.json())"
   ]
  },
  {
   "cell_type": "code",
   "execution_count": null,
   "metadata": {},
   "outputs": [
    {
     "name": "stdout",
     "output_type": "stream",
     "text": [
      "{'status': 'success', 'output_path': 'data/output/products/products.json', 'count': 1, 'template_name': 'products', 'output_format': 'json'}\n"
     ]
    }
   ],
   "source": [
    "import requests\n",
    "\n",
    "response = requests.post(\n",
    "    \"http://localhost:8000/generate\",\n",
    "    json={\n",
    "        \"template_name\": \"emails\",\n",
    "        \"count\": 1,\n",
    "        \"output_format\": \"json\"\n",
    "    }\n",
    ")\n",
    "print(response.json())"
   ]
  },
  {
   "cell_type": "code",
   "execution_count": 4,
   "metadata": {},
   "outputs": [
    {
     "name": "stdout",
     "output_type": "stream",
     "text": [
      "{'status': 'success', 'output_path': ['data/output/emails/emails.json', 'data/output/emails/emails.json'], 'requested_count': 3, 'generated_count': 30, 'template_name': 'emails', 'output_format': 'json', 'batch_mode': True}\n"
     ]
    }
   ],
   "source": [
    "import requests\n",
    "response = requests.post(\n",
    "    \"http://localhost:8000/generate-batch\",\n",
    "    json={\n",
    "        \"template_name\": \"emails\",\n",
    "        \"count\": 3,\n",
    "        \"output_format\": \"json\",\n",
    "        \"batch\" : True\n",
    "    }\n",
    ")\n",
    "print(response.json())"
   ]
  },
  {
   "cell_type": "code",
   "execution_count": 96,
   "metadata": {},
   "outputs": [
    {
     "data": {
      "text/plain": [
       "{'subject': 'str',\n",
       " 'greeting': 'str',\n",
       " 'body': 'str',\n",
       " 'closing': 'str',\n",
       " 'customer_name': 'str',\n",
       " 'complexity_level': 'str',\n",
       " 'issue_type': 'str',\n",
       " 'order_id': 'str',\n",
       " 'product_name': 'str',\n",
       " 'product_type': 'str'}"
      ]
     },
     "execution_count": 96,
     "metadata": {},
     "output_type": "execute_result"
    }
   ],
   "source": [
    "config['email_templates']['response_fields']"
   ]
  },
  {
   "cell_type": "code",
   "execution_count": 97,
   "metadata": {},
   "outputs": [
    {
     "data": {
      "text/plain": [
       "{'product_name': 'str',\n",
       " 'tagline': 'str',\n",
       " 'description': 'str',\n",
       " 'features': 'List[str]',\n",
       " 'price': 'float',\n",
       " 'complexity_level': 'str',\n",
       " 'category': 'str'}"
      ]
     },
     "execution_count": 97,
     "metadata": {},
     "output_type": "execute_result"
    }
   ],
   "source": [
    "config['product_templates']['response_fields']"
   ]
  },
  {
   "cell_type": "code",
   "execution_count": 1,
   "metadata": {},
   "outputs": [
    {
     "name": "stderr",
     "output_type": "stream",
     "text": [
      "\u001b[1mLogfire\u001b[0m project URL: \u001b]8;id=59294;https://logfire-us.pydantic.dev/ravi/testing-fastapi\u001b\\\u001b[4;36mhttps://logfire-us.pydantic.dev/ravi/testing-fastapi\u001b[0m\u001b]8;;\u001b\\\n"
     ]
    }
   ],
   "source": [
    "from src.utils.pydantic_generator import create_pydantic_models\n",
    " \n",
    "from src.utils.config_loader import load_config\n",
    "file = \"/Users/raviguntakala/Desktop/Personal_Projects/synthetic_data_geneation/config/system_config.yaml\"\n",
    "config = load_config(file)"
   ]
  },
  {
   "cell_type": "code",
   "execution_count": null,
   "metadata": {},
   "outputs": [
    {
     "name": "stdout",
     "output_type": "stream",
     "text": [
      "\u001b[32m13:00:13.300\u001b[0m Successfully created item model: EmailOutput\n",
      "\u001b[32m13:00:13.302\u001b[0m Successfully created list model: EmailOutputList\n"
     ]
    }
   ],
   "source": [
    "EmailOutput, EmailOutputList = create_pydantic_models(\n",
    "    \"EmailOutput\",\n",
    "    config['email_templates']['response_fields'],\n",
    "    docstring=\"Pydantic model for email output\",\n",
    "    list_field_name= \"emails\"\n",
    ")"
   ]
  },
  {
   "cell_type": "code",
   "execution_count": 2,
   "metadata": {},
   "outputs": [
    {
     "name": "stdout",
     "output_type": "stream",
     "text": [
      "13:09:11.269 Successfully created item model: ProductOutput\n",
      "13:09:11.272 Successfully created list model: ProductOutputList\n"
     ]
    }
   ],
   "source": [
    "ProductOutput, ProductOutputList = create_pydantic_models(\n",
    "    \"ProductOutput\",\n",
    "    config['product_templates']['response_fields'],\n",
    "    docstring=\"Pydantic model for product output\",\n",
    "    list_field_name= \"products\"\n",
    ")\n"
   ]
  },
  {
   "cell_type": "code",
   "execution_count": 3,
   "metadata": {},
   "outputs": [
    {
     "data": {
      "text/plain": [
       "{'description': 'Pydantic model for product output',\n",
       " 'properties': {'product_name': {'title': 'Product Name', 'type': 'string'},\n",
       "  'tagline': {'title': 'Tagline', 'type': 'string'},\n",
       "  'description': {'title': 'Description', 'type': 'string'},\n",
       "  'features': {'items': {'type': 'string'},\n",
       "   'title': 'Features',\n",
       "   'type': 'array'},\n",
       "  'price': {'title': 'Price', 'type': 'number'},\n",
       "  'complexity_level': {'title': 'Complexity Level', 'type': 'string'},\n",
       "  'category': {'title': 'Category', 'type': 'string'}},\n",
       " 'required': ['product_name',\n",
       "  'tagline',\n",
       "  'description',\n",
       "  'features',\n",
       "  'price',\n",
       "  'complexity_level',\n",
       "  'category'],\n",
       " 'title': 'ProductOutput',\n",
       " 'type': 'object'}"
      ]
     },
     "execution_count": 3,
     "metadata": {},
     "output_type": "execute_result"
    }
   ],
   "source": [
    "ProductOutput.model_json_schema()"
   ]
  },
  {
   "cell_type": "code",
   "execution_count": 90,
   "metadata": {},
   "outputs": [
    {
     "data": {
      "text/plain": [
       "{'$defs': {'EmailOutput': {'description': 'Pydantic model for email output',\n",
       "   'properties': {'subject': {'title': 'Subject', 'type': 'string'},\n",
       "    'greeting': {'title': 'Greeting', 'type': 'string'},\n",
       "    'body': {'title': 'Body', 'type': 'string'},\n",
       "    'closing': {'title': 'Closing', 'type': 'string'},\n",
       "    'customer_email': {'title': 'Customer Email', 'type': 'string'},\n",
       "    'complexity_level': {'title': 'Complexity Level', 'type': 'string'},\n",
       "    'issue_type': {'title': 'Issue Type', 'type': 'string'},\n",
       "    'order_id': {'title': 'Order Id', 'type': 'string'},\n",
       "    'product_name': {'title': 'Product Name', 'type': 'string'},\n",
       "    'product_type': {'title': 'Product Type', 'type': 'string'}},\n",
       "   'required': ['subject',\n",
       "    'greeting',\n",
       "    'body',\n",
       "    'closing',\n",
       "    'customer_email',\n",
       "    'complexity_level',\n",
       "    'issue_type',\n",
       "    'order_id',\n",
       "    'product_name',\n",
       "    'product_type'],\n",
       "   'title': 'EmailOutput',\n",
       "   'type': 'object'}},\n",
       " 'description': 'Pydantic model for a list of EmailOutput instances',\n",
       " 'properties': {'emails': {'items': {'$ref': '#/$defs/EmailOutput'},\n",
       "   'title': 'Emails',\n",
       "   'type': 'array'}},\n",
       " 'required': ['emails'],\n",
       " 'title': 'EmailOutputList',\n",
       " 'type': 'object'}"
      ]
     },
     "execution_count": 90,
     "metadata": {},
     "output_type": "execute_result"
    }
   ],
   "source": [
    "EmailOutputList.model_json_schema()"
   ]
  },
  {
   "cell_type": "code",
   "execution_count": 83,
   "metadata": {},
   "outputs": [
    {
     "data": {
      "text/plain": [
       "{'$defs': {'EmailOutput': {'description': 'Pydantic model for email output',\n",
       "   'properties': {'subject': {'title': 'Subject', 'type': 'string'},\n",
       "    'greeting': {'title': 'Greeting', 'type': 'string'},\n",
       "    'body': {'title': 'Body', 'type': 'string'},\n",
       "    'closing': {'title': 'Closing', 'type': 'string'},\n",
       "    'customer_name': {'title': 'Customer Name', 'type': 'string'},\n",
       "    'complexity_level': {'title': 'Complexity Level', 'type': 'string'},\n",
       "    'issue_type': {'title': 'Issue Type', 'type': 'string'}},\n",
       "   'required': ['subject',\n",
       "    'greeting',\n",
       "    'body',\n",
       "    'closing',\n",
       "    'customer_name',\n",
       "    'complexity_level',\n",
       "    'issue_type'],\n",
       "   'title': 'EmailOutput',\n",
       "   'type': 'object'}},\n",
       " 'description': 'Pydantic model for a list of email outputs',\n",
       " 'properties': {'emails': {'items': {'$ref': '#/$defs/EmailOutput'},\n",
       "   'title': 'Emails',\n",
       "   'type': 'array'}},\n",
       " 'required': ['emails'],\n",
       " 'title': 'EmailOutputList',\n",
       " 'type': 'object'}"
      ]
     },
     "execution_count": 83,
     "metadata": {},
     "output_type": "execute_result"
    }
   ],
   "source": [
    "# --- Existing EmailOutput definition ---\n",
    "class EmailOutput(BaseModel):\n",
    "    \"\"\"Pydantic model for email output\"\"\"\n",
    "    subject: str\n",
    "    greeting: str\n",
    "    body: str\n",
    "    closing: str\n",
    "    customer_name: str\n",
    "    complexity_level: str\n",
    "    issue_type: str\n",
    "\n",
    "# --- NEW: Pydantic model for a list of email outputs ---\n",
    "class EmailOutputList(BaseModel):\n",
    "    \"\"\"Pydantic model for a list of email outputs\"\"\"\n",
    "    emails: List[EmailOutput]\n",
    "EmailOutputList.model_json_schema()"
   ]
  },
  {
   "cell_type": "code",
   "execution_count": null,
   "metadata": {},
   "outputs": [],
   "source": []
  }
 ],
 "metadata": {
  "kernelspec": {
   "display_name": ".venv",
   "language": "python",
   "name": "python3"
  },
  "language_info": {
   "codemirror_mode": {
    "name": "ipython",
    "version": 3
   },
   "file_extension": ".py",
   "mimetype": "text/x-python",
   "name": "python",
   "nbconvert_exporter": "python",
   "pygments_lexer": "ipython3",
   "version": "3.12.0"
  }
 },
 "nbformat": 4,
 "nbformat_minor": 2
}
